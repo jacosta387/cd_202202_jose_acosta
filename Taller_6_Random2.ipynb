{
  "nbformat": 4,
  "nbformat_minor": 0,
  "metadata": {
    "colab": {
      "provenance": [],
      "authorship_tag": "ABX9TyPEiD9J0JWpvWvMUryoSGew",
      "include_colab_link": true
    },
    "kernelspec": {
      "name": "python3",
      "display_name": "Python 3"
    },
    "language_info": {
      "name": "python"
    }
  },
  "cells": [
    {
      "cell_type": "markdown",
      "metadata": {
        "id": "view-in-github",
        "colab_type": "text"
      },
      "source": [
        "<a href=\"https://colab.research.google.com/github/jacosta387/cd_202202_jose_acosta/blob/main/Taller_6_Random2.ipynb\" target=\"_parent\"><img src=\"https://colab.research.google.com/assets/colab-badge.svg\" alt=\"Open In Colab\"/></a>"
      ]
    },
    {
      "cell_type": "code",
      "execution_count": null,
      "metadata": {
        "id": "A806lAMcjn9W"
      },
      "outputs": [],
      "source": [
        "import math\n",
        "\n",
        "def distancia (x, y): #definir función distancia\n",
        "  return math.sqrt(x**2 + y**2)  # se usa pitagoras\n"
      ]
    },
    {
      "cell_type": "code",
      "source": [
        "cont = 0 #contador\n",
        "puntosLado = 10000 #Generar puntos de un lado\n",
        "paso = 1 / (puntosLado -1) #espacios de la división.\n",
        "\n",
        "i = 0\n",
        "while i <= 1:\n",
        "  j = 0\n",
        "  while j <= 1:\n",
        "    if distancia(i, j) <= 1:\n",
        "      cont += 1\n",
        "    j+= paso\n",
        "  i += paso\n",
        "\n",
        "print(\"Puntos:\", cont)\n",
        "print(\"Estimación de pi:\", (cont * 4 / (puntosLado**2))) #Función deterministica misma entrada y igual salida"
      ],
      "metadata": {
        "colab": {
          "base_uri": "https://localhost:8080/"
        },
        "id": "y7BaPIpTkKS5",
        "outputId": "d71f31de-1a88-401f-d41a-412aa4451bb7"
      },
      "execution_count": null,
      "outputs": [
        {
          "output_type": "stream",
          "name": "stdout",
          "text": [
            "Puntos: 78534021\n",
            "Estimación de pi: 3.14136084\n"
          ]
        }
      ]
    },
    {
      "cell_type": "markdown",
      "source": [
        "## TALLER 6\n",
        "\n",
        "Programa que genere puntos aleatorios y se aproxime a pi.\n",
        "\n",
        "Pista aleatorio aproxima mejor.\n",
        "\n",
        "Estimación Montecarlo"
      ],
      "metadata": {
        "id": "OidnMuC_nRnx"
      }
    },
    {
      "cell_type": "code",
      "source": [
        "\n",
        "import random #Importar libreria random.\n",
        " \n",
        "RANGO = 10000\n",
        " \n",
        "circulo_points = 0\n",
        "cuadrado_points = 0\n",
        " \n",
        "# Total de números aleatorios generados= posibles x\n",
        "# valores* posibles valores \"y\"\n",
        "for i in range(RANGO**2):\n",
        " \n",
        "    # Valores \"x\" y valores \"y\" \n",
        "    # generados aleatoriamente a partir de una distribución uniforme\n",
        "    # El rango de los valores \"x\" y \"y\" es de -1 a 1\n",
        "    random_x = random.uniform(-1, 1)\n",
        "    random_y = random.uniform(-1, 1)\n",
        "\n",
        "    # Distancia entre (x, y) desde el origen\n",
        "    distancia_ori = random_x**2 + random_y**2\n",
        " \n",
        "     # Comprobar si (x, y) está dentro del círculo\n",
        "    if distancia_ori <= 1:\n",
        "        circulo_points += 1\n",
        "    \n",
        "    cuadrado_points += 1\n",
        " \n",
        "    # Estimación del valor de pi,\n",
        "    # pi= 4*(nº de puntos generados dentro del círculo)\n",
        "    # / (nº de puntos generados dentro del cuadrado)\n",
        "    pi = 4 * circulo_points / cuadrado_points\n",
        " \n",
        "    # impresión de datos\n",
        "print(\"Puntos:\", circulo_points)\n",
        "print(\"Estimación Final Pi=\", pi)"
      ],
      "metadata": {
        "colab": {
          "base_uri": "https://localhost:8080/"
        },
        "id": "auAnEJNcoHRR",
        "outputId": "1a47d14e-39cc-4413-8377-2bc0966d6031"
      },
      "execution_count": null,
      "outputs": [
        {
          "output_type": "stream",
          "name": "stdout",
          "text": [
            "Puntos: 78545299\n",
            "Estimación Final Pi= 3.14181196\n"
          ]
        }
      ]
    }
  ]
}